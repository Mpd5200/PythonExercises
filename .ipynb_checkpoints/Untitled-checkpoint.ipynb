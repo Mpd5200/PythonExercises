{
 "cells": [
  {
   "cell_type": "markdown",
   "id": "955af461",
   "metadata": {},
   "source": [
    "## Python Excercises - One a day keeps ya sharp!!"
   ]
  },
  {
   "cell_type": "markdown",
   "id": "8e7067ba",
   "metadata": {},
   "source": [
    "## Question 1 \n",
    "\n",
    "#### There are two lists of dictionaries representing friendship beginnings and endings: friends_added and friends_removed. Each dictionary contains the user_ids and created_at time of the friendship beginning /ending.\n",
    "\n",
    "#### Write a function friendship_timeline to generate an output that lists the pairs of friends with their corresponding timestamps of the friendship beginning and then the timestamp of the friendship ending.\n",
    "\n",
    "#### Note: There can be multiple instances over time when two people became friends and unfriended; only output lists when a corresponding friendship was removed."
   ]
  },
  {
   "cell_type": "code",
   "execution_count": 85,
   "id": "114d43d1",
   "metadata": {},
   "outputs": [
    {
     "data": {
      "text/plain": [
       "[{'user_ids': [1, 2], 'start_date': '2020-01-01', 'end_date': '2020-01-03'},\n",
       " {'user_ids': [2, 3], 'start_date': '2020-01-02', 'end_date': '2020-01-05'},\n",
       " {'user_ids': [1, 2], 'start_date': '2020-02-02', 'end_date': '2020-02-05'}]"
      ]
     },
     "execution_count": 85,
     "metadata": {},
     "output_type": "execute_result"
    }
   ],
   "source": [
    "## Implement\n",
    "\n",
    "#Desired_Output \n",
    "\n",
    "# friendships = [{\n",
    "#     'user_ids': [1, 2],\n",
    "#     'start_date': '2020-01-01',\n",
    "#     'end_date': '2020-01-03'\n",
    "#   },\n",
    "#   {\n",
    "#     'user_ids': [1, 2],\n",
    "#     'start_date': '2020-02-02',\n",
    "#     'end_date': '2020-02-05'\n",
    "#   },\n",
    "#   {\n",
    "#     'user_ids': [2, 3],\n",
    "#     'start_date': '2020-01-02',\n",
    "#     'end_date': '2020-01-05'\n",
    "#   },\n",
    "# ]\n",
    "\n",
    "friends_added = [\n",
    "    {'user_ids': [1, 2], 'created_at': '2020-01-01'},\n",
    "    {'user_ids': [3, 2], 'created_at': '2020-01-02'},\n",
    "    {'user_ids': [2, 1], 'created_at': '2020-02-02'},\n",
    "    {'user_ids': [4, 1], 'created_at': '2020-02-02'}]\n",
    "\n",
    "friends_removed = [\n",
    "    {'user_ids': [2, 1], 'created_at': '2020-01-03'},\n",
    "    {'user_ids': [2, 3], 'created_at': '2020-01-05'},\n",
    "    {'user_ids': [1, 2], 'created_at': '2020-02-05'}]\n",
    "\n",
    "pairs_added = []\n",
    "pairs_removed = []\n",
    "\n",
    "for i in friends_removed:\n",
    "    key = sorted(i['user_ids'])\n",
    "    pairs_removed.append(key)\n",
    "    i['user_ids'] = key\n",
    "\n",
    "for i,v in enumerate(friends_added):\n",
    "    key = sorted(v['user_ids'])\n",
    "    if key not in pairs_removed:\n",
    "        del friends_added[i]\n",
    "        continue\n",
    "    pairs_added.append(key)\n",
    "    v['user_ids'] = key\n",
    "\n",
    "friendships = []\n",
    "\n",
    "for i,v in list(zip(friends_added,friends_removed)):\n",
    "    d = {}\n",
    "    d['user_ids'] = i['user_ids']\n",
    "    d['start_date'] = i['created_at']\n",
    "    d['end_date'] = v['created_at']\n",
    "    friendships.append(d)\n",
    "    \n",
    "friendships"
   ]
  },
  {
   "cell_type": "markdown",
   "id": "83665b90",
   "metadata": {},
   "source": [
    "## Q2\n",
    "\n",
    "#### Given an array and a target integer, write a function sum_pair_indices that returns the indices of two integers in the array that add up to the target integer. If not found, just return an empty list.\n",
    "\n",
    "\n",
    "#### Note: Even though there could be many solutions, only one needs to be returned."
   ]
  },
  {
   "cell_type": "code",
   "execution_count": 141,
   "id": "27dcd547",
   "metadata": {},
   "outputs": [
    {
     "name": "stdout",
     "output_type": "stream",
     "text": [
      "[0, 3]\n",
      "[]\n",
      "[2, 3]\n"
     ]
    }
   ],
   "source": [
    "def sum_pair_indices(array, target):\n",
    "    \n",
    "    indicies = []\n",
    "    for i in range(len(array)-1):\n",
    "        start = array[i]\n",
    "        for x in range(len(array)-1):\n",
    "            sums = start + array[x+1]\n",
    "            if sums == target:\n",
    "                if not indicies:\n",
    "                    indicies.append(i)\n",
    "                    indicies.append(x+1)\n",
    "                \n",
    "    return indicies\n",
    "    \n",
    "array = [1,2,3,4] \n",
    "target = 5 \n",
    "\n",
    "# -> expected [1,2] or [0,3]\n",
    "\n",
    "print(sum_pair_indices(array, target))\n",
    "\n",
    "array = [3] \n",
    "target = 6\n",
    "\n",
    "# -> expected []\n",
    "print(sum_pair_indices(array, target))\n",
    "\n",
    "array = [3,5,7,9] \n",
    "target = 16\n",
    "\n",
    "# -> expected [2,3]\n",
    "print(sum_pair_indices(array, target))"
   ]
  },
  {
   "cell_type": "markdown",
   "id": "eab4ba2b",
   "metadata": {},
   "source": [
    "## Question 3\n",
    "\n",
    "#### Write a function data_stream_median to calculate the new median from a stream of ordered integers and the new element which is not yet inserted into the stream.\n",
    "\n",
    "#### The median is the middle value in an ordered integer list. If the size of the list is even, there is no middle value, so the median is the mean of the two middle values."
   ]
  },
  {
   "cell_type": "code",
   "execution_count": 139,
   "id": "f10577d7",
   "metadata": {},
   "outputs": [
    {
     "name": "stdout",
     "output_type": "stream",
     "text": [
      "[1, 2, 3, 4, 5, 6, 7, 14, 16, 18, 20, 22, 25, 25]\n"
     ]
    },
    {
     "data": {
      "text/plain": [
       "'Median Value: 10.5'"
      ]
     },
     "execution_count": 139,
     "metadata": {},
     "output_type": "execute_result"
    }
   ],
   "source": [
    "def data_stream_median(new_value, stream):\n",
    "    \n",
    "    new_list = [0] * (len(stream) + 1)\n",
    "    \n",
    "    if max(stream) < new_value:\n",
    "        new_list[-1] += new_value\n",
    "    \n",
    "    for i in range(len(stream)):\n",
    "\n",
    "        if stream[i] < new_value:\n",
    "            new_list[i]+= stream[i]\n",
    "            \n",
    "        elif stream[i] == new_value:\n",
    "\n",
    "            new_list[i] += new_value\n",
    "            new_list[i+1]+= new_value\n",
    "        \n",
    "        else:\n",
    "            new_list[i+1] += stream[i]\n",
    "     \n",
    "    print(new_list)\n",
    "    if len(new_list) % 2 == 0:\n",
    "        median_value_r1 =int(len(new_list) / 2)-1\n",
    "        median_value_r2 = median_value_r1 + 1\n",
    "        return 'Median Value:' + ' ' + str((new_list[median_value_r1] + new_list[median_value_r2])/2)\n",
    "\n",
    "    else:\n",
    "\n",
    "        median_value =int(len(new_list) / 2)\n",
    "        return 'Median Value:' + ' ' + str(new_list[median_value])\n",
    "    \n",
    "new_value = 25\n",
    "stream = [1, 2, 3, 4, 5, 6,7,14,16,18,20,22,25]\n",
    "data_stream_median(new_value, stream)"
   ]
  },
  {
   "cell_type": "code",
   "execution_count": 35,
   "id": "eb0a77ac",
   "metadata": {},
   "outputs": [],
   "source": [
    "x = ['a','b']"
   ]
  },
  {
   "cell_type": "code",
   "execution_count": 37,
   "id": "9dbfaa00",
   "metadata": {},
   "outputs": [
    {
     "data": {
      "text/plain": [
       "1"
      ]
     },
     "execution_count": 37,
     "metadata": {},
     "output_type": "execute_result"
    }
   ],
   "source": [
    "x.index(x[-1])"
   ]
  },
  {
   "cell_type": "code",
   "execution_count": null,
   "id": "435897df",
   "metadata": {},
   "outputs": [],
   "source": []
  }
 ],
 "metadata": {
  "kernelspec": {
   "display_name": "Python 3",
   "language": "python",
   "name": "python3"
  },
  "language_info": {
   "codemirror_mode": {
    "name": "ipython",
    "version": 3
   },
   "file_extension": ".py",
   "mimetype": "text/x-python",
   "name": "python",
   "nbconvert_exporter": "python",
   "pygments_lexer": "ipython3",
   "version": "3.8.8"
  }
 },
 "nbformat": 4,
 "nbformat_minor": 5
}
